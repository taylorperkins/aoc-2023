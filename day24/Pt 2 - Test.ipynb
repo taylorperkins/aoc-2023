{
 "cells": [
  {
   "cell_type": "code",
   "execution_count": 31,
   "id": "e0bd96eb",
   "metadata": {},
   "outputs": [],
   "source": [
    "import pandas as pd\n",
    "import matplotlib.pyplot as plt\n",
    "import numpy as np\n",
    "from numpy.linalg import inv\n",
    "from numpy import matmul\n",
    "\n",
    "from itertools import combinations\n",
    "\n",
    "%matplotlib inline"
   ]
  },
  {
   "cell_type": "code",
   "execution_count": 34,
   "id": "0b6f013c",
   "metadata": {},
   "outputs": [
    {
     "data": {
      "text/plain": [
       "[{'id': 0, 'x': 19, 'y': 13, 'z': 30, 'vx': -2, 'vy': 1, 'vz': -2},\n",
       " {'id': 1, 'x': 18, 'y': 19, 'z': 22, 'vx': -1, 'vy': -1, 'vz': -2},\n",
       " {'id': 2, 'x': 20, 'y': 25, 'z': 34, 'vx': -2, 'vy': -2, 'vz': -4},\n",
       " {'id': 3, 'x': 12, 'y': 31, 'z': 28, 'vx': -1, 'vy': -2, 'vz': -1},\n",
       " {'id': 4, 'x': 20, 'y': 19, 'z': 15, 'vx': 1, 'vy': -5, 'vz': -3}]"
      ]
     },
     "execution_count": 34,
     "metadata": {},
     "output_type": "execute_result"
    }
   ],
   "source": [
    "paths = []\n",
    "    \n",
    "with open(\"./input-test.txt\") as f:\n",
    "\n",
    "    for idx, line in enumerate(f.read().splitlines()):\n",
    "        pos, vel = line.split(\" @ \")\n",
    "        x, y, z = (int(v.strip()) for v in pos.split(\",\"))\n",
    "        vx, vy, vz = (int(v.strip()) for v in vel.split(\",\"))\n",
    "        \n",
    "        paths.append({\n",
    "            \"id\": idx,\n",
    "            \"x\": x, \"y\": y, \"z\": z,\n",
    "            \"vx\": vx, \"vy\": vy, \"vz\": vz,\n",
    "        })\n",
    "        \n",
    "paths"
   ]
  },
  {
   "cell_type": "code",
   "execution_count": 18,
   "id": "565630f1",
   "metadata": {},
   "outputs": [],
   "source": [
    "constants = []\n",
    "coefs = []\n",
    "\n",
    "for A, B in combinations(paths, 2):\n",
    "    # target is x, vx, y, vy for the source point\n",
    "    coef = [\n",
    "        B[\"vy\"] - A[\"vy\"],\n",
    "        A[\"y\"]  - B[\"y\"],\n",
    "        A[\"vx\"] - B[\"vx\"],\n",
    "        B[\"x\"]  - A[\"x\"],\n",
    "    ]\n",
    "\n",
    "    # don't want inf values\n",
    "    if all(v != 0 for v in coef):        \n",
    "        coefs.append(coef)\n",
    "        constants.append((A[\"y\"]*A[\"vx\"]) - (A[\"x\"]*A[\"vy\"]) + (B[\"x\"]*B[\"vy\"]) - (B[\"y\"]*B[\"vx\"]))\n",
    "        \n",
    "# We want both the constants matrix and coefs matrix to be \n",
    "# the same size as the number of terms we are solving for.\n",
    "# Coefs needs to be a square matrix\n",
    "constants = constants[:4]\n",
    "coefs = coefs[:4]"
   ]
  },
  {
   "cell_type": "code",
   "execution_count": 24,
   "id": "7e46da35",
   "metadata": {},
   "outputs": [
    {
     "data": {
      "text/plain": [
       "matrix([[ -2,  -6,  -1,  -1],\n",
       "        [ -3, -18,  -1,  -7],\n",
       "        [ -6,  -6,  -3,   1],\n",
       "        [ -1,  -6,   1,   2]])"
      ]
     },
     "execution_count": 24,
     "metadata": {},
     "output_type": "execute_result"
    }
   ],
   "source": [
    "# use matrix inversion to solve linear equation\n",
    "# AX = B\n",
    "# A = coefs\n",
    "# B = constants\n",
    "A = np.matrix(np.array(coefs))\n",
    "A"
   ]
  },
  {
   "cell_type": "code",
   "execution_count": 29,
   "id": "4bc2c9fa",
   "metadata": {},
   "outputs": [
    {
     "data": {
      "text/plain": [
       "array([ -44,  -38, -164,    9])"
      ]
     },
     "execution_count": 29,
     "metadata": {},
     "output_type": "execute_result"
    }
   ],
   "source": [
    "B = np.array(constants)\n",
    "B"
   ]
  },
  {
   "cell_type": "code",
   "execution_count": 27,
   "id": "a0d56964",
   "metadata": {},
   "outputs": [
    {
     "data": {
      "text/plain": [
       "matrix([[ 2.18181818, -0.45454545, -0.63636364, -0.18181818],\n",
       "        [-0.5530303 ,  0.09090909,  0.14393939, -0.03030303],\n",
       "        [-2.95454545,  0.63636364,  0.59090909,  0.45454545],\n",
       "        [ 0.90909091, -0.27272727, -0.18181818,  0.09090909]])"
      ]
     },
     "execution_count": 27,
     "metadata": {},
     "output_type": "execute_result"
    }
   ],
   "source": [
    "inv(A)"
   ]
  },
  {
   "cell_type": "code",
   "execution_count": 32,
   "id": "ae0cda45",
   "metadata": {},
   "outputs": [
    {
     "data": {
      "text/plain": [
       "matrix([[24., -3., 13.,  1.]])"
      ]
     },
     "execution_count": 32,
     "metadata": {},
     "output_type": "execute_result"
    }
   ],
   "source": [
    "matmul(inv(A), B)"
   ]
  },
  {
   "cell_type": "code",
   "execution_count": 39,
   "id": "38dca900",
   "metadata": {},
   "outputs": [
    {
     "data": {
      "text/plain": [
       "matrix([[24., -3., 10.,  2.]])"
      ]
     },
     "execution_count": 39,
     "metadata": {},
     "output_type": "execute_result"
    }
   ],
   "source": [
    "constants = []\n",
    "coefs = []\n",
    "\n",
    "for A, B in combinations(paths, 2):\n",
    "    # target is x, vx, z, vz for the source point\n",
    "    coef = [\n",
    "        B[\"vz\"] - A[\"vz\"],\n",
    "        A[\"z\"]  - B[\"z\"],\n",
    "        A[\"vx\"] - B[\"vx\"],\n",
    "        B[\"x\"]  - A[\"x\"],\n",
    "    ]\n",
    "\n",
    "    # don't want inf values\n",
    "    if all(v != 0 for v in coef):        \n",
    "        coefs.append(coef)\n",
    "        constants.append((A[\"z\"]*A[\"vx\"]) - (A[\"x\"]*A[\"vz\"]) + (B[\"x\"]*B[\"vz\"]) - (B[\"z\"]*B[\"vx\"]))\n",
    "        \n",
    "# We want both the constants matrix and coefs matrix to be \n",
    "# the same size as the number of terms we are solving for.\n",
    "# Coefs needs to be a square matrix\n",
    "constants = constants[:4]\n",
    "coefs = coefs[:4]\n",
    "\n",
    "A = np.matrix(np.array(coefs))\n",
    "B = np.array(constants)\n",
    "\n",
    "out = matmul(inv(A), B)\n",
    "out"
   ]
  },
  {
   "cell_type": "code",
   "execution_count": 46,
   "id": "be80b534",
   "metadata": {},
   "outputs": [
    {
     "data": {
      "text/plain": [
       "47"
      ]
     },
     "execution_count": 46,
     "metadata": {},
     "output_type": "execute_result"
    }
   ],
   "source": [
    "# 24, 13, 10 @ -3, 1, 2\n",
    "24 + 13 + 10"
   ]
  },
  {
   "cell_type": "code",
   "execution_count": null,
   "id": "12b363bd",
   "metadata": {},
   "outputs": [],
   "source": []
  }
 ],
 "metadata": {
  "kernelspec": {
   "display_name": "Python 3 (ipykernel)",
   "language": "python",
   "name": "python3"
  },
  "language_info": {
   "codemirror_mode": {
    "name": "ipython",
    "version": 3
   },
   "file_extension": ".py",
   "mimetype": "text/x-python",
   "name": "python",
   "nbconvert_exporter": "python",
   "pygments_lexer": "ipython3",
   "version": "3.7.9"
  }
 },
 "nbformat": 4,
 "nbformat_minor": 5
}
